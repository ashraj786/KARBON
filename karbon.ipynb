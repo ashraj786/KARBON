{
 "cells": [
  {
   "cell_type": "code",
   "execution_count": 112,
   "metadata": {},
   "outputs": [],
   "source": [
    "import pandas as pd\n",
    "import numpy as np\n",
    "import matplotlib.pyplot as plt\n",
    "import seaborn\n",
    "%matplotlib inline\n",
    "pd.options.display.max_rows = 999\n",
    "pd.options.display.max_columns = 999"
   ]
  },
  {
   "cell_type": "markdown",
   "metadata": {},
   "source": [
    "## Problem 1: Normalizations Matrix"
   ]
  },
  {
   "cell_type": "code",
   "execution_count": 113,
   "metadata": {},
   "outputs": [],
   "source": [
    "test_arr = np.array([[1, 2,0],\n",
    "[0, 1, 1],\n",
    "[5, 6, 5]])"
   ]
  },
  {
   "cell_type": "code",
   "execution_count": 114,
   "metadata": {},
   "outputs": [
    {
     "data": {
      "text/plain": [
       "array([[1, 2, 0],\n",
       "       [0, 1, 1],\n",
       "       [5, 6, 5]])"
      ]
     },
     "execution_count": 114,
     "metadata": {},
     "output_type": "execute_result"
    }
   ],
   "source": [
    "test_arr"
   ]
  },
  {
   "cell_type": "code",
   "execution_count": 115,
   "metadata": {},
   "outputs": [],
   "source": [
    "import statistics\n",
    "means = []\n",
    "stds = []\n",
    "#statistics.stdev\n",
    "for i in range(len(test_arr)):\n",
    "    vals = []\n",
    "    for j in range(len(test_arr)):\n",
    "        if test_arr[j,i] !=0:\n",
    "            vals.append(test_arr[j,i])\n",
    "    means.append(np.mean(vals))"
   ]
  },
  {
   "cell_type": "code",
   "execution_count": 116,
   "metadata": {},
   "outputs": [],
   "source": [
    "for i in range(len(test_arr)):\n",
    "    test_arr[:,i] = [means[i] if item == 0 else item for item in test_arr[:,i]]       "
   ]
  },
  {
   "cell_type": "code",
   "execution_count": 117,
   "metadata": {},
   "outputs": [
    {
     "data": {
      "text/plain": [
       "array([[1, 2, 3],\n",
       "       [3, 1, 1],\n",
       "       [5, 6, 5]])"
      ]
     },
     "execution_count": 117,
     "metadata": {},
     "output_type": "execute_result"
    }
   ],
   "source": [
    "test_arr"
   ]
  },
  {
   "cell_type": "code",
   "execution_count": 118,
   "metadata": {},
   "outputs": [],
   "source": [
    "stds=[]\n",
    "for i in range(len(test_arr)):\n",
    "    stds.append(np.std(test_arr[:,i]))"
   ]
  },
  {
   "cell_type": "code",
   "execution_count": 119,
   "metadata": {},
   "outputs": [
    {
     "data": {
      "text/plain": [
       "[1.632993161855452, 2.160246899469287, 1.632993161855452]"
      ]
     },
     "execution_count": 119,
     "metadata": {},
     "output_type": "execute_result"
    }
   ],
   "source": [
    "stds"
   ]
  },
  {
   "cell_type": "code",
   "execution_count": 120,
   "metadata": {},
   "outputs": [],
   "source": [
    "def normaliser(i,j):\n",
    "    return(round((test_arr[i,j]-means[i])/stds[i],2))"
   ]
  },
  {
   "cell_type": "code",
   "execution_count": 121,
   "metadata": {},
   "outputs": [],
   "source": [
    "for i in range(len(test_arr)):\n",
    "    for j in range(len(test_arr)):\n",
    "         test_arr[i,j]=normaliser(i,j)"
   ]
  },
  {
   "cell_type": "code",
   "execution_count": 123,
   "metadata": {},
   "outputs": [
    {
     "data": {
      "text/plain": [
       "array([[-1,  0,  0],\n",
       "       [ 0,  0,  0],\n",
       "       [ 1,  1,  1]])"
      ]
     },
     "execution_count": 123,
     "metadata": {},
     "output_type": "execute_result"
    }
   ],
   "source": [
    "test_arr"
   ]
  },
  {
   "cell_type": "markdown",
   "metadata": {},
   "source": [
    "## Problem 2: JSON CLEANING"
   ]
  },
  {
   "cell_type": "code",
   "execution_count": 141,
   "metadata": {},
   "outputs": [],
   "source": [
    "import json\n",
    "str_json1 = \"\"\"{\n",
    "\"id\": \"1\",\n",
    "\"agent\": \"Radulf Katlego\",\n",
    "\"unit\": \"#3\",\n",
    "\"description\": \"This luxurious studio apartment is in the heart of downtown.\",\n",
    "\"num_bedrooms\": 1\n",
    "},\n",
    "{\n",
    "\"id\": \"2\",\n",
    "\"agent\": \"Kelemen Konrad\",\n",
    "\"unit\": \"#36\",\n",
    "\"description\": \"We have a 1-bedroom available on the third floor.\",\n",
    "\"num_bedrooms\": 1\n",
    "},\n",
    "{\n",
    "\"id\": \"3\",\n",
    "\"agent\": \"Ton Jett\",\n",
    "\"unit\": \"#12\",\n",
    "\"description\": \"Beautiful 1-bedroom apartment with nearby yoga studio.\",\n",
    "\"num_bedrooms\": 1\n",
    "},\n",
    "{\n",
    "\"id\": \"4\",\n",
    "\"agent\": \"Fishel Salman\",\n",
    "\"unit\": \"#13\",\n",
    "\"description\": \"Beautiful studio with a nearby art studio.\",\n",
    "\"num_bedrooms\": 1\n",
    "}\n",
    "}\"\"\"\n",
    "dict_json={}\n",
    "for i in range(len(str_json.split(\"},\"))):\n",
    "    dict_json[i]=str_json.split(\"},\")[i]\n",
    "# = json.loads(str_json)"
   ]
  },
  {
   "cell_type": "code",
   "execution_count": 143,
   "metadata": {},
   "outputs": [
    {
     "data": {
      "text/plain": [
       "['\\n{\\n\"id\": \"4\"',\n",
       " '\\n\"agent\": \"Fishel Salman\"',\n",
       " '\\n\"unit\": \"#13\"',\n",
       " '\\n\"description\": \"Beautiful studio with a nearby art studio.\"',\n",
       " '\\n\"num_bedrooms\": 1\\n}\\n}']"
      ]
     },
     "execution_count": 143,
     "metadata": {},
     "output_type": "execute_result"
    }
   ],
   "source": [
    "dict_json[3].split(\",\")[]"
   ]
  },
  {
   "cell_type": "code",
   "execution_count": 160,
   "metadata": {},
   "outputs": [],
   "source": [
    "def finder_st(x):\n",
    "    x = str.lower(x)\n",
    "    return([x.find('studio'),x.find('1-bedroom'),x.find('yoga'),x.find('dance'),x.find('art')])"
   ]
  },
  {
   "cell_type": "code",
   "execution_count": 187,
   "metadata": {},
   "outputs": [],
   "source": [
    "def finder_st(x):\n",
    "    x = str.lower(x)\n",
    "    chk = [x.find('studio'),x.find('1-bedroom'),x.find('yoga'),x.find('dance'),x.find('art')]\n",
    "    min_value =min(chk)\n",
    "    if (sum([chk[2],chk[3],chk[4]])<=0):\n",
    "        if min_value == chk[0] or chk[0]<chk[1]:\n",
    "            return(0)\n",
    "        if min_value == chk[1] or chk[1]<chk[0]:\n",
    "            return(1)\n",
    "    elif min_value == chk[0] and chk[0]<min([chk[2],chk[3],chk[4]]):\n",
    "            return(0)\n",
    "    elif min_value == chk[1] and chk[1]<min([chk[2],chk[3],chk[4]]):\n",
    "            return(1)\n",
    "   "
   ]
  },
  {
   "cell_type": "code",
   "execution_count": 188,
   "metadata": {},
   "outputs": [
    {
     "name": "stdout",
     "output_type": "stream",
     "text": [
      "None\n",
      "0\n",
      "None\n",
      "None\n"
     ]
    }
   ],
   "source": [
    "for i in range(len(dict_json)):\n",
    "    for j in dict_json[i].split(\",\"):\n",
    "        if(\"num_bedrooms\") in j:\n",
    "            fix = j[-1]\n",
    "        if (\"description\" in j):\n",
    "            print(finder_st(j))\n",
    "    "
   ]
  },
  {
   "cell_type": "code",
   "execution_count": 170,
   "metadata": {},
   "outputs": [
    {
     "name": "stdout",
     "output_type": "stream",
     "text": [
      "\n",
      "\"description\": \"This luxurious studio apartment is in the heart of downtown.\"\n",
      "\n",
      "\"description\": \"We have a 1-bedroom available on the third floor.\"\n",
      "\n",
      "\"description\": \"Beautiful 1-bedroom apartment with nearby yoga studio.\"\n",
      "\n",
      "\"description\": \"Beautiful studio with a nearby art studio.\"\n"
     ]
    }
   ],
   "source": [
    "for i in range(len(dict_json)):\n",
    "    for j in dict_json[i].split(\",\"):\n",
    "        if (\"description\" in j):\n",
    "            print(j)"
   ]
  },
  {
   "cell_type": "code",
   "execution_count": null,
   "metadata": {},
   "outputs": [],
   "source": []
  }
 ],
 "metadata": {
  "kernelspec": {
   "display_name": "Python 3",
   "language": "python",
   "name": "python3"
  },
  "language_info": {
   "codemirror_mode": {
    "name": "ipython",
    "version": 3
   },
   "file_extension": ".py",
   "mimetype": "text/x-python",
   "name": "python",
   "nbconvert_exporter": "python",
   "pygments_lexer": "ipython3",
   "version": "3.8.5"
  }
 },
 "nbformat": 4,
 "nbformat_minor": 4
}
